{
 "cells": [
  {
   "cell_type": "markdown",
   "id": "2c3c968b",
   "metadata": {},
   "source": [
    "# Model Training"
   ]
  },
  {
   "cell_type": "code",
   "execution_count": 1,
   "id": "7ec6ea81",
   "metadata": {},
   "outputs": [],
   "source": [
    "# imports\n",
    "import pandas as pd\n",
    "import numpy as np\n",
    "import mlflow\n",
    "from mlflow.models.signature import infer_signature\n",
    "from scipy.sparse import vstack\n",
    "from sklearn.feature_extraction.text import CountVectorizer, TfidfVectorizer\n",
    "from sklearn.metrics import mean_squared_error, r2_score\n",
    "from sklearn import linear_model"
   ]
  },
  {
   "cell_type": "markdown",
   "id": "1405caed",
   "metadata": {},
   "source": [
    "### Data Loading"
   ]
  },
  {
   "cell_type": "code",
   "execution_count": 2,
   "id": "a881973c",
   "metadata": {},
   "outputs": [],
   "source": [
    "def count_vec(vec_params, df_all, df_train, df_test):\n",
    "    #Count Vectorizer:\n",
    "    vectorizer1 = CountVectorizer(**vec_params) #initialise the vectorizer\n",
    "    vectorizer1.fit(df_all['sentence'].tolist()) #fit vectorizer to entire corpus\n",
    "\n",
    "    # vectorize test and train separately\n",
    "    df_train['count_vector'] = df_train.apply(lambda x: vectorizer1.transform([x['sentence']]), axis=1)\n",
    "    df_test['count_vector'] = df_test.apply(lambda x: vectorizer1.transform([x['sentence']]), axis=1)\n",
    "    \n",
    "    return df_train, df_test"
   ]
  },
  {
   "cell_type": "code",
   "execution_count": 3,
   "id": "5734920b",
   "metadata": {},
   "outputs": [],
   "source": [
    "def tfidf_vec(vec_params, df_all, df_train, df_test):\n",
    "    # TF-IDF Vectorizer:\n",
    "    vectorizer2 = TfidfVectorizer(**vec_params) #initialise the vectorizer\n",
    "    vectorizer2.fit(df_all['sentence'].tolist()) #fit vectorizer to entire corpus\n",
    "\n",
    "    # vectorize test and train separately\n",
    "    df_train['tf_idf_vector'] = df_train.apply(lambda x: vectorizer2.transform([x['sentence']]), axis=1)\n",
    "    df_test['tf_idf_vector'] = df_test.apply(lambda x: vectorizer2.transform([x['sentence']]), axis=1)\n",
    "    \n",
    "    return df_train, df_test"
   ]
  },
  {
   "cell_type": "markdown",
   "id": "43fa5152",
   "metadata": {},
   "source": [
    "Pull out the data from the df and save in numpy vectors for easy use with SKLearn:"
   ]
  },
  {
   "cell_type": "code",
   "execution_count": 4,
   "id": "86b932f5",
   "metadata": {},
   "outputs": [],
   "source": [
    "def data_vec(vec, vec_params):\n",
    "    \n",
    "    df_all = pd.read_csv('./data/all.csv')\n",
    "    df_train = pd.read_csv('./data/train.csv')\n",
    "    df_test = pd.read_csv('./data/test.csv')\n",
    "    \n",
    "    Y_train = df_train['avg_score'].to_numpy()\n",
    "    Y_test = df_test['avg_score'].to_numpy()\n",
    "    \n",
    "    if vec=='count':\n",
    "        df_train, df_test = count_vec(vec_params, df_all, df_train, df_test)\n",
    "        X_train = vstack(df_train['count_vector'].to_numpy())\n",
    "        X_test = vstack(df_test['count_vector'].to_numpy())\n",
    "    elif vec=='tfidf':\n",
    "        df_train, df_test = tfidf_vec(vec_params, df_all, df_train, df_test)\n",
    "        X_train = vstack(df_train['tf_idf_vector'].to_numpy())\n",
    "        X_test = vstack(df_test['tf_idf_vector'].to_numpy())\n",
    "    else:\n",
    "        raise ValueError('Vectorizer not chosen')\n",
    "        \n",
    "    return X_train, X_test, Y_train, Y_test\n",
    "        "
   ]
  },
  {
   "cell_type": "markdown",
   "id": "911a639e",
   "metadata": {},
   "source": [
    "### Mlflow Setup"
   ]
  },
  {
   "cell_type": "markdown",
   "id": "643c5b84",
   "metadata": {},
   "source": [
    "- Please run the CLI commands in the 010-MLflow-setup notebook to initiate the MLflow server.\n",
    "- The MLflow UI can be accessed [here](http://127.0.0.1:5000)."
   ]
  },
  {
   "cell_type": "code",
   "execution_count": 5,
   "id": "f4206969",
   "metadata": {},
   "outputs": [],
   "source": [
    "tracking_uri = \"http://127.0.0.1:5000/\"\n",
    "mlflow.set_tracking_uri(tracking_uri)"
   ]
  },
  {
   "cell_type": "markdown",
   "id": "d1c8eff4",
   "metadata": {},
   "source": [
    "## Models experimented with:\n",
    "1. Linear Regression\n",
    "2. "
   ]
  },
  {
   "cell_type": "markdown",
   "id": "adf6cfe7",
   "metadata": {},
   "source": [
    "### 1. Linear Regression"
   ]
  },
  {
   "cell_type": "code",
   "execution_count": 6,
   "id": "933e12ad",
   "metadata": {},
   "outputs": [
    {
     "name": "stderr",
     "output_type": "stream",
     "text": [
      "2022/11/30 17:34:47 INFO mlflow.tracking.fluent: Experiment with name 'linear_regression' does not exist. Creating a new experiment.\n"
     ]
    }
   ],
   "source": [
    "# create new experiment with MLflow:\n",
    "experiment_name = \"linear_regression\"\n",
    "mlflow.set_experiment(experiment_name);"
   ]
  },
  {
   "cell_type": "markdown",
   "id": "944c8ae2",
   "metadata": {},
   "source": [
    "Let's set some vectorizer and model parameters:"
   ]
  },
  {
   "cell_type": "code",
   "execution_count": 7,
   "id": "cb21e896",
   "metadata": {},
   "outputs": [],
   "source": [
    "vectorizer = 'count' # count or tfidf\n",
    "vec_params = {\n",
    "    'lowercase' : True, #Convert all characters to lowercase before tokenizing\n",
    "    'stop_words': 'english', #Use sklearn built in corpus for stop word removal\n",
    "    'max_df': 1.0, #maximum document frequency: we can ignore words which occur frequently\n",
    "    'min_df': 0.0, #minimum document frequency: we can ignore words which occur infrequently\n",
    "    'analyzer' : 'word', #tokenize to words\n",
    "    'ngram_range': (1,1),\n",
    "}\n",
    "\n",
    "model_params = {\n",
    "    \n",
    "}"
   ]
  },
  {
   "cell_type": "code",
   "execution_count": 8,
   "id": "dd99c3ed",
   "metadata": {},
   "outputs": [
    {
     "name": "stderr",
     "output_type": "stream",
     "text": [
      "/opt/miniconda3/envs/sprint-py/lib/python3.10/site-packages/_distutils_hack/__init__.py:33: UserWarning: Setuptools is replacing distutils.\n",
      "  warnings.warn(\"Setuptools is replacing distutils.\")\n"
     ]
    },
    {
     "name": "stdout",
     "output_type": "stream",
     "text": [
      "R2 score : -7.52\n",
      "Mean squared error: 14.95\n"
     ]
    }
   ],
   "source": [
    "lin_reg_model = linear_model.LinearRegression()\n",
    "\n",
    "with mlflow.start_run() as run:\n",
    "    # log parameters in Mlflow:\n",
    "    mlflow.log_param(\"vectorizer\", vectorizer)\n",
    "    mlflow.log_params(vec_params)\n",
    "    mlflow.log_params(model_params)\n",
    "    \n",
    "    # data\n",
    "    X_train, X_test, Y_train, Y_test = data_vec(vectorizer, vec_params)\n",
    "    \n",
    "    # train\n",
    "    lin_reg_model = linear_model.LinearRegression(**model_params)\n",
    "    lin_reg_model.fit(X_train, Y_train)\n",
    "    \n",
    "    # log model\n",
    "    signature = infer_signature(X_train, lin_reg_model.predict(X_train[0:10]))\n",
    "    mlflow.sklearn.log_model(lin_reg_model, \"linear_regression_model\", signature=signature)\n",
    "    \n",
    "    # evaluate\n",
    "    Y_pred = lin_reg_model.predict(X_test)\n",
    "    r2score = r2_score(Y_test, Y_pred)\n",
    "    MSE = mean_squared_error(Y_test, Y_pred)\n",
    "    print(\"R2 score : %.2f\" % r2score)\n",
    "    print(\"Mean squared error: %.2f\" % MSE)\n",
    "    \n",
    "    # log metrics\n",
    "    mlflow.log_metric(\"R2 score\", r2score)\n",
    "    mlflow.log_metric(\"Mean squared error\", MSE)"
   ]
  },
  {
   "cell_type": "code",
   "execution_count": null,
   "id": "126737d9",
   "metadata": {},
   "outputs": [],
   "source": []
  }
 ],
 "metadata": {
  "kernelspec": {
   "display_name": "Python 3 (ipykernel)",
   "language": "python",
   "name": "python3"
  },
  "language_info": {
   "codemirror_mode": {
    "name": "ipython",
    "version": 3
   },
   "file_extension": ".py",
   "mimetype": "text/x-python",
   "name": "python",
   "nbconvert_exporter": "python",
   "pygments_lexer": "ipython3",
   "version": "3.10.8"
  }
 },
 "nbformat": 4,
 "nbformat_minor": 5
}
