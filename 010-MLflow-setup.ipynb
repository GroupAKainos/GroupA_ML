{
 "cells": [
  {
   "cell_type": "markdown",
   "id": "d4c1b5d5",
   "metadata": {},
   "source": [
    "## MLflow Setup\n",
    "\n",
    "First, lets check that MLflow is installed correctly via a CLI command:"
   ]
  },
  {
   "cell_type": "code",
   "execution_count": 1,
   "id": "ac0363fa",
   "metadata": {},
   "outputs": [
    {
     "name": "stdout",
     "output_type": "stream",
     "text": [
      "Usage: mlflow [OPTIONS] COMMAND [ARGS]...\r\n",
      "\r\n",
      "Options:\r\n",
      "  --version  Show the version and exit.\r\n",
      "  --help     Show this message and exit.\r\n",
      "\r\n",
      "Commands:\r\n",
      "  artifacts    Upload, list, and download artifacts from an MLflow...\r\n",
      "  db           Commands for managing an MLflow tracking database.\r\n",
      "  deployments  Deploy MLflow models to custom targets.\r\n",
      "  experiments  Manage experiments.\r\n",
      "  gc           Permanently delete runs in the `deleted` lifecycle stage.\r\n",
      "  models       Deploy MLflow models locally.\r\n",
      "  recipes      Run MLflow Recipes and inspect recipe results.\r\n",
      "  run          Run an MLflow project from the given URI.\r\n",
      "  runs         Manage runs.\r\n",
      "  sagemaker    Serve models on SageMaker.\r\n",
      "  server       Run the MLflow tracking server.\r\n"
     ]
    }
   ],
   "source": [
    "!mlflow"
   ]
  },
  {
   "cell_type": "markdown",
   "id": "fd3b9f68",
   "metadata": {},
   "source": [
    "### Initiate Mlflow server on localhost\n",
    "\n",
    "MLflow on localhost with backend store as an SQLAlchemy compatible database type: SQLite\n",
    "- Artifacts are stored under a local directory\n",
    "- MLflow entities are inserted in a SQLite database file `mlruns.db`."
   ]
  },
  {
   "cell_type": "code",
   "execution_count": null,
   "id": "7b94c824",
   "metadata": {},
   "outputs": [],
   "source": [
    "!mlflow server --backend-store-uri sqlite:///./mlflow/mlruns.db --default-artifact-root ./mlflow/mlruns"
   ]
  },
  {
   "cell_type": "markdown",
   "id": "d6223368",
   "metadata": {},
   "source": [
    "The above CLI spins up the backend MLflow server which can be accessed on localhost port 5000, or by following [this](http://127.0.0.1:5000) link.\n",
    "\n",
    "Within the MLflow UI, you will be able to view various different model experimentation's and their results, which are stored in SQL databases in the git repo 💾"
   ]
  }
 ],
 "metadata": {
  "kernelspec": {
   "display_name": "Python 3 (ipykernel)",
   "language": "python",
   "name": "python3"
  },
  "language_info": {
   "codemirror_mode": {
    "name": "ipython",
    "version": 3
   },
   "file_extension": ".py",
   "mimetype": "text/x-python",
   "name": "python",
   "nbconvert_exporter": "python",
   "pygments_lexer": "ipython3",
   "version": "3.10.8"
  }
 },
 "nbformat": 4,
 "nbformat_minor": 5
}
