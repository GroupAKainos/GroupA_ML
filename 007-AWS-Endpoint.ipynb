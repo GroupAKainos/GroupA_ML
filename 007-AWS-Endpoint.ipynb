{
 "cells": [
  {
   "cell_type": "markdown",
   "id": "7fff566d",
   "metadata": {},
   "source": [
    "# Creating AWS Endpoint using Lambda with Serverless plugins\n",
    "\n",
    "Serverless developers can use the AWS Serverless Application Model framework (AWS SAM). AWS SAM creates and manages serverless applications based on templates.\n",
    "\n",
    "### Inital Setup - install AWS SAM globally:\n",
    "\n",
    "Please run the following in your terminal:\n",
    "\n",
    "``` brew tap aws/tap ```\n",
    "\n",
    "``` brew install aws-sam-cli ```\n",
    "\n",
    "### Create the service locally:\n",
    "\n",
    "``` sam init ```\n",
    "\n",
    "Follow the on-screen prompts:\n",
    "- Select AWS Quick Start Templates as the template source\n",
    "- Choose Image as the package type\n",
    "- Select amazon/python3.8-base as the base image\n",
    "- Enter application name: formality-api\n",
    "- Select the desired ML framework: Scikit-learn Machine Learning Inference\n",
    "\n",
    "Following the creation of the template, I changed the following in the ./formality-api folder:\n",
    "- Amened the yaml file to suit the application\n",
    "- Amended the Dockerfile to point to the correct paths for inference code and saved models. Also added in a python command to download a nltk corpus the allow sentence tokenization.\n",
    "- Created /models folder and uploaded vectorizer and model .pkl\n",
    "- Created api folder which includes api_inference code that is used to make formality predictions\n",
    "- Amended app.py to which calls the inference code and return the sentences, formality scores and formality classification.\n",
    "- Added required dependencies to requirements.txt\n",
    "\n",
    "### Test the local service:\n",
    "\n",
    "Build the container: ``` sam build ```\n",
    "\n",
    "Invoke the container locally and test using a mock event.json file: ``` sam local invoke InferenceFunction --event events/event.json ```\n",
    "\n",
    "Run the container locally: ``` sam local start-api ```"
   ]
  },
  {
   "cell_type": "markdown",
   "id": "18652189",
   "metadata": {},
   "source": [
    "### Once the local endpoint is created, we can test it using some python code:"
   ]
  },
  {
   "cell_type": "code",
   "execution_count": 11,
   "id": "61d0ef82",
   "metadata": {},
   "outputs": [
    {
     "name": "stdout",
     "output_type": "stream",
     "text": [
      "['\"As a Trainee Artificial Intelligence (AI) Engineer in Kainos, you’ll be responsible for contributing to the development of high-quality solutions which integrate AI and ML technologies that delight our customers and impact the lives of users worldwide.', 'You’ll do this whilst gaining awareness and learning about new AI technologies, frameworks and approaches, with talented colleagues that will help you to learn, develop and grow.\"']\n",
      "[1.48, 1.62]\n",
      "['Formal', 'Formal']\n"
     ]
    }
   ],
   "source": [
    "import requests\n",
    "import json\n",
    "\n",
    "test = \"As a Trainee Artificial Intelligence (AI) Engineer in Kainos, you’ll be responsible for contributing to the development of high-quality solutions which integrate AI and ML technologies that delight our customers and impact the lives of users worldwide. You’ll do this whilst gaining awareness and learning about new AI technologies, frameworks and approaches, with talented colleagues that will help you to learn, develop and grow.\"\n",
    "\n",
    "api_endpoint = \"http://127.0.0.1:3000/formality-score\"\n",
    "data = json.dumps(test, ensure_ascii=False).encode('utf8')\n",
    "headers = {\"Content-Type\": \"application/json\"}\n",
    "response = requests.post(url=api_endpoint, data=data, headers=headers)\n",
    "prediction = response\n",
    "print(prediction.json()['sentences'])\n",
    "print(prediction.json()['scores'])\n",
    "print(prediction.json()['formality'])"
   ]
  },
  {
   "cell_type": "markdown",
   "id": "949c47a6",
   "metadata": {},
   "source": [
    "### Deploy the working service to AWS Serverless Lambda:\n",
    "\n",
    "Use the sam deployment command that guides you through the process:\n",
    "\n",
    "```sam deploy --guided```\n",
    "\n",
    "### Test the AWS endpoint using postmates:"
   ]
  },
  {
   "cell_type": "code",
   "execution_count": 18,
   "id": "1eeb34c1",
   "metadata": {},
   "outputs": [
    {
     "name": "stdout",
     "output_type": "stream",
     "text": [
      "['\"As a Trainee Artificial Intelligence (AI) Engineer in Kainos, you’ll be responsible for contributing to the development of high-quality solutions which integrate AI and ML technologies that delight our customers and impact the lives of users worldwide.', 'You’ll do this whilst gaining awareness and learning about new AI technologies, frameworks and approaches, with talented colleagues that will help you to learn, develop and grow.\"']\n",
      "[1.48, 1.62]\n",
      "['Formal', 'Formal']\n"
     ]
    }
   ],
   "source": [
    "f = open(\"./data/sanity_check/formal_text.txt\", \"r\")\n",
    "formal = f.read()\n",
    "f.close()\n",
    "api_endpoint = \"https://i9ie7dtl73.execute-api.eu-west-2.amazonaws.com/Prod/formality-score/\"\n",
    "data = json.dumps(formal, ensure_ascii=False).encode('utf8')\n",
    "headers = {\"Content-Type\": \"application/json\"}\n",
    "response = requests.post(url=api_endpoint, data=data, headers=headers)\n",
    "print(response.json()['sentences'])\n",
    "print(response.json()['scores'])\n",
    "print(response.json()['formality'])"
   ]
  },
  {
   "cell_type": "code",
   "execution_count": 19,
   "id": "c3312412",
   "metadata": {},
   "outputs": [
    {
     "name": "stdout",
     "output_type": "stream",
     "text": [
      "['\"A Trainee AI engineering at kainos will be building good solutions that join AI and ML stuff that make customers really happy and people everywhere.', 'Need to learn about all new stuff in AI and talk loads with people you work with to get smarter and do more stuff.\"']\n",
      "[-0.17, -0.44]\n",
      "['Informal', 'Informal']\n"
     ]
    }
   ],
   "source": [
    "f = open(\"./data/sanity_check/informal_text.txt\", \"r\")\n",
    "informal = f.read()\n",
    "f.close()\n",
    "api_endpoint = \"https://i9ie7dtl73.execute-api.eu-west-2.amazonaws.com/Prod/formality-score/\"\n",
    "data = json.dumps(informal, ensure_ascii=False).encode('utf8')\n",
    "headers = {\"Content-Type\": \"application/json\"}\n",
    "response = requests.post(url=api_endpoint, data=data, headers=headers)\n",
    "print(response.json()['sentences'])\n",
    "print(response.json()['scores'])\n",
    "print(response.json()['formality'])"
   ]
  },
  {
   "cell_type": "code",
   "execution_count": 20,
   "id": "a3054b64",
   "metadata": {},
   "outputs": [
    {
     "name": "stdout",
     "output_type": "stream",
     "text": [
      "['\"As a Lead Software Engineer (Consultant) in Kainos, you’ll be responsible for leading teams and developing high quality solutions which delight our customers and impact the lives of users worldwide.', 'It’s a fast-paced environment so it is important for you to make sound, reasoned decisions.', 'You’ll do this whilst learning about new technologies and approaches, with talented colleagues that will help you to learn, develop and grow.', 'You’ll manage, coach and develop a small number of staff, with a focus on managing employee performance and assisting in their career development.', 'You’ll also provide direction and leadership for your team as you solve challenging problems together.', 'As the technical leader in the team, you will also interact with customers, share knowledge and mentor those around you.', 'Expertise in designing, building, testing and maintaining modern software applications.', 'Technical leadership of teams building and testing modern, scalable, secure, performant applications in line with software development principles, practices and patterns.', 'Experience of technical ownership for a product/software project, including architecture, estimation, product planning and user story/requirement creation.', 'Expertise in software design and development across all layers of an application.', 'We are passionate about developing people – a demonstrated ability in managing, coaching and developing junior members of your team and wider community.', 'Experience with the latest Continuous Integration and Continuous Delivery techniques.', 'Good communication skills, with the ability to communicate issues to technical and non-technical people.', 'Active participation in knowledge sharing activities, both within the team and at a wider capability level and externally where appropriate.', 'Experience of debugging and troubleshooting live applications.', 'Experience of multiple programming languages and data storage technologies.', 'Knowledge of public cloud platforms, such as AWS and Azure, including SaaS and PaaS offerings.', 'Our vision is to enable outstanding people to create digital solutions that have a positive impact on people’s lives.', \"Our values aren't abstract; they are the behaviours we expect from each other every day and underpin everything that we do.\", 'We expect everyone to display our values by being determined in how obstacles are overcome; honest when dealing with others; respectful of how you treat others; creative to find solutions to complex problems and cooperative by sharing information, knowledge and experience.', 'These values, applied collectively, help to produce an outstanding Kainos person, team and culture.', 'At Kainos we use technology to solve real problems for our customers, overcome big challenges for businesses, and make people’s lives easier.', 'We build strong relationships with our customers and go beyond to change the way they work today and the impact they have tomorrow.', 'Our two specialist practices, Digital Services and Workday, work globally for clients across healthcare, commercial and the public sector to make the world a little bit better, day by day.', 'For more information, see kainos.com\"']\n",
      "[1.67, 0.56, 0.72, 2.07, -0.35, 0.05, 0.54, 3.1, 2.49, 0.7, 0.28, 0.43, -0.12, 0.94, -0.26, -0.23, 0.32, -0.36, -0.52, 4.36, -0.74, 0.6, 0.14, 1.12, -0.37]\n",
      "['Formal', 'Formal', 'Formal', 'Formal', 'Informal', 'Formal', 'Formal', 'Formal', 'Formal', 'Formal', 'Formal', 'Formal', 'Informal', 'Formal', 'Informal', 'Informal', 'Formal', 'Informal', 'Informal', 'Formal', 'Informal', 'Formal', 'Formal', 'Formal', 'Informal']\n"
     ]
    }
   ],
   "source": [
    "job_desc = \"As a Lead Software Engineer (Consultant) in Kainos, you’ll be responsible for leading teams and developing high quality solutions which delight our customers and impact the lives of users worldwide. It’s a fast-paced environment so it is important for you to make sound, reasoned decisions. You’ll do this whilst learning about new technologies and approaches, with talented colleagues that will help you to learn, develop and grow. You’ll manage, coach and develop a small number of staff, with a focus on managing employee performance and assisting in their career development. You’ll also provide direction and leadership for your team as you solve challenging problems together.  As the technical leader in the team, you will also interact with customers, share knowledge and mentor those around you. Expertise in designing, building, testing and maintaining modern software applications. Technical leadership of teams building and testing modern, scalable, secure, performant applications in line with software development principles, practices and patterns. Experience of technical ownership for a product/software project, including architecture, estimation, product planning and user story/requirement creation. Expertise in software design and development across all layers of an application. We are passionate about developing people – a demonstrated ability in managing, coaching and developing junior members of your team and wider community. Experience with the latest Continuous Integration and Continuous Delivery techniques. Good communication skills, with the ability to communicate issues to technical and non-technical people. Active participation in knowledge sharing activities, both within the team and at a wider capability level and externally where appropriate. Experience of debugging and troubleshooting live applications. Experience of multiple programming languages and data storage technologies. Knowledge of public cloud platforms, such as AWS and Azure, including SaaS and PaaS offerings. Our vision is to enable outstanding people to create digital solutions that have a positive impact on people’s lives. Our values aren't abstract; they are the behaviours we expect from each other every day and underpin everything that we do. We expect everyone to display our values by being determined in how obstacles are overcome; honest when dealing with others; respectful of how you treat others; creative to find solutions to complex problems and cooperative by sharing information, knowledge and experience. These values, applied collectively, help to produce an outstanding Kainos person, team and culture. At Kainos we use technology to solve real problems for our customers, overcome big challenges for businesses, and make people’s lives easier. We build strong relationships with our customers and go beyond to change the way they work today and the impact they have tomorrow. Our two specialist practices, Digital Services and Workday, work globally for clients across healthcare, commercial and the public sector to make the world a little bit better, day by day. For more information, see kainos.com\"\n",
    "api_endpoint = \"https://i9ie7dtl73.execute-api.eu-west-2.amazonaws.com/Prod/formality-score/\"\n",
    "data = json.dumps(job_desc, ensure_ascii=False).encode('utf8')\n",
    "headers = {\"Content-Type\": \"application/json\"}\n",
    "response = requests.post(url=api_endpoint, data=data, headers=headers)\n",
    "print(response.json()['sentences'])\n",
    "print(response.json()['scores'])\n",
    "print(response.json()['formality'])"
   ]
  }
 ],
 "metadata": {
  "kernelspec": {
   "display_name": "Python 3 (ipykernel)",
   "language": "python",
   "name": "python3"
  },
  "language_info": {
   "codemirror_mode": {
    "name": "ipython",
    "version": 3
   },
   "file_extension": ".py",
   "mimetype": "text/x-python",
   "name": "python",
   "nbconvert_exporter": "python",
   "pygments_lexer": "ipython3",
   "version": "3.10.8"
  }
 },
 "nbformat": 4,
 "nbformat_minor": 5
}
